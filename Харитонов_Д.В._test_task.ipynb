{
 "cells": [
  {
   "cell_type": "markdown",
   "metadata": {},
   "source": [
    "# Вопрос ЧТО?: задача классификации\n",
    "\n",
    "Есть дата сет в котором представлено несколько поездок на автомобилях с разными типами коробки передач (механика/вариатор)\n",
    "Каждая поездка автомобиля это отдельный trackid.\n",
    "По каждому trackid есть некое кол-во записей.\n",
    "В каждой записи отображается:\n",
    "    - rpm = кол-во оборотов\n",
    "    - acceleration = ускорение\n",
    "    - deacceleration = торможение\n",
    "    - speed = скорость\n",
    "\n",
    "Нужно определить какой trackid отноститься к поездке на вариаторе или механике\n",
    "\n",
    "# Вопрос ЗАЧЕМ?:\n",
    "Теоретически на данных подобного рода можно остлеживать стиль вождения автомобиля \n",
    "и определять \"лихачей\" любящих погонять.\n",
    "Вполне актуальная задача для страховых компаний\n",
    "\n",
    "\n",
    "# Вопрос КАК СДЕЛАНО?: \n",
    "На входе датасет по нескольким объектам.\n",
    "По каждому объекту есть ряд наблюдений.\n",
    "\n",
    "Разбил решение задачи на два ключевых этапа:\n",
    "\n",
    "    - Этап 1: придумать логику, по которой на уровне наблюдей смогу сделать признак.\n",
    "    Нужно чтобы чтобы данный признак давал ответ на главный вопрос и что бы его возможно было агрегировать \n",
    "    до уровня объекта, перейдя с уровня наблюдений.\n",
    "    \n",
    "    - Этап 2: использовать для кластеризации модель KMeans.\n",
    "    \n",
    "Этап 1 [Решение]: построчно посчитал изменение кол-ва оборотов и изменение скорости между текущей и предыдущей точкой наблюдения. Далее расчитал отношение изменение скорости к изменению кол-ва оборотов (рассчетная фича). Далее сложил все полученные значения рассчетной фичи отдельно по каждому объекту и получил таблицу в которой в строке уникальное значение объекта и проссумирование значение рассчетной фичи.\n",
    "\n",
    "Этап 2 [Решение]: загрузил в модель KMeans.    "
   ]
  },
  {
   "cell_type": "code",
   "execution_count": 1,
   "metadata": {},
   "outputs": [],
   "source": [
    "import pandas as pd\n",
    "import matplotlib.pyplot as plt\n",
    "from sklearn.cluster import KMeans\n",
    "import numpy as np\n",
    "import time"
   ]
  },
  {
   "cell_type": "code",
   "execution_count": 2,
   "metadata": {},
   "outputs": [],
   "source": [
    "start_time = time.time()\n",
    "# загрузил файл\n",
    "df = pd.read_excel('test_task.xlsx', encoding='utf-8')"
   ]
  },
  {
   "cell_type": "code",
   "execution_count": 3,
   "metadata": {},
   "outputs": [
    {
     "name": "stdout",
     "output_type": "stream",
     "text": [
      "<class 'pandas.core.frame.DataFrame'>\n",
      "RangeIndex: 36137 entries, 0 to 36136\n",
      "Data columns (total 6 columns):\n",
      "trackid                         36137 non-null int64\n",
      "number of point in the track    36137 non-null int64\n",
      "rpm                             36137 non-null int64\n",
      "acceleration                    36137 non-null float64\n",
      "deacceleration                  36137 non-null float64\n",
      "speed                           36137 non-null int64\n",
      "dtypes: float64(2), int64(4)\n",
      "memory usage: 1.7 MB\n"
     ]
    }
   ],
   "source": [
    "# посмотрел статистику и проверил есть ли пропуски значений\n",
    "df.info()"
   ]
  },
  {
   "cell_type": "code",
   "execution_count": 4,
   "metadata": {},
   "outputs": [],
   "source": [
    "# сделал копию датафрема оставив исходный, на случай если понадобяться исходные данные, то к нему можно было бы обратиться\n",
    "df2 = df.copy(deep=True)"
   ]
  },
  {
   "cell_type": "code",
   "execution_count": 5,
   "metadata": {},
   "outputs": [
    {
     "data": {
      "text/html": [
       "<div>\n",
       "<style scoped>\n",
       "    .dataframe tbody tr th:only-of-type {\n",
       "        vertical-align: middle;\n",
       "    }\n",
       "\n",
       "    .dataframe tbody tr th {\n",
       "        vertical-align: top;\n",
       "    }\n",
       "\n",
       "    .dataframe thead th {\n",
       "        text-align: right;\n",
       "    }\n",
       "</style>\n",
       "<table border=\"1\" class=\"dataframe\">\n",
       "  <thead>\n",
       "    <tr style=\"text-align: right;\">\n",
       "      <th></th>\n",
       "      <th>number of point in the track</th>\n",
       "      <th>rpm</th>\n",
       "      <th>acceleration</th>\n",
       "      <th>deacceleration</th>\n",
       "      <th>speed</th>\n",
       "    </tr>\n",
       "    <tr>\n",
       "      <th>trackid</th>\n",
       "      <th></th>\n",
       "      <th></th>\n",
       "      <th></th>\n",
       "      <th></th>\n",
       "      <th></th>\n",
       "    </tr>\n",
       "  </thead>\n",
       "  <tbody>\n",
       "    <tr>\n",
       "      <td>183166</td>\n",
       "      <td>1</td>\n",
       "      <td>0</td>\n",
       "      <td>0.046666</td>\n",
       "      <td>-0.018075</td>\n",
       "      <td>0</td>\n",
       "    </tr>\n",
       "    <tr>\n",
       "      <td>183166</td>\n",
       "      <td>2</td>\n",
       "      <td>0</td>\n",
       "      <td>0.028628</td>\n",
       "      <td>-0.015434</td>\n",
       "      <td>0</td>\n",
       "    </tr>\n",
       "    <tr>\n",
       "      <td>183166</td>\n",
       "      <td>3</td>\n",
       "      <td>0</td>\n",
       "      <td>0.027993</td>\n",
       "      <td>-0.018982</td>\n",
       "      <td>0</td>\n",
       "    </tr>\n",
       "    <tr>\n",
       "      <td>183166</td>\n",
       "      <td>4</td>\n",
       "      <td>0</td>\n",
       "      <td>0.048617</td>\n",
       "      <td>-0.025555</td>\n",
       "      <td>0</td>\n",
       "    </tr>\n",
       "    <tr>\n",
       "      <td>183166</td>\n",
       "      <td>5</td>\n",
       "      <td>0</td>\n",
       "      <td>0.000000</td>\n",
       "      <td>0.000000</td>\n",
       "      <td>0</td>\n",
       "    </tr>\n",
       "  </tbody>\n",
       "</table>\n",
       "</div>"
      ],
      "text/plain": [
       "         number of point in the track  rpm  acceleration  deacceleration  \\\n",
       "trackid                                                                    \n",
       "183166                              1    0      0.046666       -0.018075   \n",
       "183166                              2    0      0.028628       -0.015434   \n",
       "183166                              3    0      0.027993       -0.018982   \n",
       "183166                              4    0      0.048617       -0.025555   \n",
       "183166                              5    0      0.000000        0.000000   \n",
       "\n",
       "         speed  \n",
       "trackid         \n",
       "183166       0  \n",
       "183166       0  \n",
       "183166       0  \n",
       "183166       0  \n",
       "183166       0  "
      ]
     },
     "execution_count": 5,
     "metadata": {},
     "output_type": "execute_result"
    }
   ],
   "source": [
    "# установил в качестве индекса значения из колонки trackid\n",
    "# задублированную колонку удалил\n",
    "df2.index = df2['trackid']\n",
    "df2 = df2.drop(['trackid'], axis=1)\n",
    "df2.head()"
   ]
  },
  {
   "cell_type": "code",
   "execution_count": 6,
   "metadata": {},
   "outputs": [],
   "source": [
    "# добавил пустые колонки для будуших расчетов\n",
    "df2['rpm_dif'] = \"\"\n",
    "df2['speed_dif'] = \"\"\n",
    "df2['speed_dif / rpm_dif'] = \"\""
   ]
  },
  {
   "cell_type": "code",
   "execution_count": 7,
   "metadata": {},
   "outputs": [],
   "source": [
    "# df4['rpm_dif'] - Колонка в которой расчитал изменение rpm по сравнению с предыдущей точкой\n",
    "df4 = df2\n",
    "df4 = df4.reset_index()\n",
    "df4all = df4['rpm'].iloc[:-1]\n",
    "df4all[-1] = 0\n",
    "df4all.index = df4all.index + 1\n",
    "df4all = df4all.sort_index()\n",
    "df4['rpm_dif'] = df4['rpm'] - df4all"
   ]
  },
  {
   "cell_type": "code",
   "execution_count": 8,
   "metadata": {},
   "outputs": [],
   "source": [
    "# df4['speed_dif'] - Колонка в которой расчитал изменение speed по сравнению с предыдущей точкой\n",
    "df4 = df4\n",
    "df4 = df4.reset_index(drop=True)\n",
    "df4all = df4['speed'].iloc[:-1]\n",
    "df4all[-1] = 0\n",
    "df4all.index = df4all.index + 1\n",
    "df4all = df4all.sort_index()\n",
    "df4['speed_dif'] = df4['speed'] - df4all"
   ]
  },
  {
   "cell_type": "code",
   "execution_count": 9,
   "metadata": {},
   "outputs": [],
   "source": [
    "# для классификации поездок решил сгенерировать новый признак (отношение изменение сокрости к изменению оборотов)\n",
    "# поскольку на вариаторе нет переключения скоростей и общая сумма по новому признаку должна быть по идее ниже.\n",
    "# в данных есть ситуации когда 0 делим на число или наоборот число на 0.\n",
    "# в результате при расчете новой фичи возникли inf / -inf. \n",
    "# данное значение (inf) при агрегации данных не давало возможности загрузить данные в модель. \n",
    "# для этого применил \"хитрость\" введя в места пропуска маленькие значения в числитель и знаменатель.  \n",
    "# (посчитал подобные изменения допустимыми)\n",
    "\n",
    "\n",
    "# отобрал в фильтр те строки в которых изменение скорости равно 0 (исключил ситуцию деления на ноль)\n",
    "filt = df4['speed_dif'] == 0\n",
    "df4[filt]\n",
    "df4.loc[df4[filt].index.values,'speed_dif'] = 0.001\n",
    "df4.loc[df4[filt].index.values,'rpm_dif'] = 0.001\n",
    "\n",
    "\n",
    "# отобрал в фильтр те строки в которых изменение rpm равно 0 и делиться на какое-то число (исключил ситуации в которых\n",
    "# получалось значение inf / -inf)\n",
    "filt = (df4['rpm_dif'] == 0) & (df4['speed_dif'] != 0)\n",
    "df4[filt]\n",
    "df4.loc[df4[filt].index.values,'speed_dif'] = 0.001\n",
    "df4.loc[df4[filt].index.values,'rpm_dif'] = 0.001\n"
   ]
  },
  {
   "cell_type": "code",
   "execution_count": 10,
   "metadata": {},
   "outputs": [],
   "source": [
    "# расчет нового признака (отношение изменение сокрости к изменению оборотов)\n",
    "df4['speed_dif / rpm_dif'] = df4['speed_dif'] / df4['rpm_dif']"
   ]
  },
  {
   "cell_type": "code",
   "execution_count": 11,
   "metadata": {},
   "outputs": [],
   "source": [
    "# добавил колонку маркер чтобы использовать для след шага\n",
    "df4['Marker'] = 1"
   ]
  },
  {
   "cell_type": "code",
   "execution_count": 12,
   "metadata": {},
   "outputs": [],
   "source": [
    "# посколку в новом признаке перемножались два столбца в которых было возможно 4 комбинации знаков:\n",
    "# '++', '+-', '-+', '--' то по правилам умножения у четвертой комбинации '--' получался знак плюс. \n",
    "# хотя для накопительного эффекта подсчета суммы по новому признаку требовалось сохранить знак минус. \n",
    "# для этого ввел доп колонку в которой для подобных случаев проставил значение -1 и в последствии на \n",
    "# него умножил приведя значения знаков нового параметра в нужное состояние\"\"\"\n",
    "filt = (df4['rpm_dif']<0)&(df4['speed_dif']<0)\n",
    "df4[filt]\n",
    "df4.loc[df4[filt].index.values,'Marker'] = -1\n",
    "df4['speed_dif / rpm_dif'] = df4['speed_dif / rpm_dif'] * df4['Marker']\n",
    "df4['speed_dif / rpm_dif'] = df4['speed_dif / rpm_dif'].astype(float)"
   ]
  },
  {
   "cell_type": "code",
   "execution_count": 13,
   "metadata": {},
   "outputs": [],
   "source": [
    "# подготовительные расчеты доп фичи произведены\n",
    "# теперь нужно несколько строк наблюедний по одному объекту 'trackid' и колонке 'speed_dif / rpm_dif' просуммировать\n",
    "# и получить всего 1 строку по 1 trackid, чтобы далее можно было построить модель KMeans\n",
    "df5 = df4.groupby('trackid').agg({'speed_dif / rpm_dif': 'sum'})"
   ]
  },
  {
   "cell_type": "code",
   "execution_count": 14,
   "metadata": {},
   "outputs": [
    {
     "data": {
      "image/png": "[encoded data removed]",
      "text/plain": [
       "<Figure size 432x288 with 1 Axes>"
      ]
     },
     "metadata": {
      "needs_background": "light"
     },
     "output_type": "display_data"
    }
   ],
   "source": [
    "# построил график на котором посмотрел распределение точек\n",
    "x_axis = df5.index\n",
    "y_axis = df5['speed_dif / rpm_dif']\n",
    "plt.scatter(x_axis, y_axis, c=df5['speed_dif / rpm_dif'])\n",
    "plt.show()"
   ]
  },
  {
   "cell_type": "code",
   "execution_count": 15,
   "metadata": {},
   "outputs": [
    {
     "data": {
      "text/html": [
       "<div>\n",
       "<style scoped>\n",
       "    .dataframe tbody tr th:only-of-type {\n",
       "        vertical-align: middle;\n",
       "    }\n",
       "\n",
       "    .dataframe tbody tr th {\n",
       "        vertical-align: top;\n",
       "    }\n",
       "\n",
       "    .dataframe thead th {\n",
       "        text-align: right;\n",
       "    }\n",
       "</style>\n",
       "<table border=\"1\" class=\"dataframe\">\n",
       "  <thead>\n",
       "    <tr style=\"text-align: right;\">\n",
       "      <th></th>\n",
       "      <th>speed_dif / rpm_dif</th>\n",
       "      <th>CLASS</th>\n",
       "    </tr>\n",
       "    <tr>\n",
       "      <th>trackid</th>\n",
       "      <th></th>\n",
       "      <th></th>\n",
       "    </tr>\n",
       "  </thead>\n",
       "  <tbody>\n",
       "    <tr>\n",
       "      <td>183166</td>\n",
       "      <td>77.858085</td>\n",
       "      <td>1</td>\n",
       "    </tr>\n",
       "    <tr>\n",
       "      <td>183235</td>\n",
       "      <td>149.259385</td>\n",
       "      <td>1</td>\n",
       "    </tr>\n",
       "    <tr>\n",
       "      <td>183240</td>\n",
       "      <td>21.232075</td>\n",
       "      <td>1</td>\n",
       "    </tr>\n",
       "    <tr>\n",
       "      <td>183245</td>\n",
       "      <td>59.987009</td>\n",
       "      <td>1</td>\n",
       "    </tr>\n",
       "    <tr>\n",
       "      <td>183248</td>\n",
       "      <td>73.997640</td>\n",
       "      <td>1</td>\n",
       "    </tr>\n",
       "    <tr>\n",
       "      <td>183255</td>\n",
       "      <td>213.847321</td>\n",
       "      <td>1</td>\n",
       "    </tr>\n",
       "    <tr>\n",
       "      <td>183266</td>\n",
       "      <td>65.483706</td>\n",
       "      <td>1</td>\n",
       "    </tr>\n",
       "    <tr>\n",
       "      <td>185037</td>\n",
       "      <td>106.997373</td>\n",
       "      <td>1</td>\n",
       "    </tr>\n",
       "    <tr>\n",
       "      <td>185544</td>\n",
       "      <td>89.667167</td>\n",
       "      <td>1</td>\n",
       "    </tr>\n",
       "    <tr>\n",
       "      <td>185572</td>\n",
       "      <td>27.638110</td>\n",
       "      <td>1</td>\n",
       "    </tr>\n",
       "  </tbody>\n",
       "</table>\n",
       "</div>"
      ],
      "text/plain": [
       "         speed_dif / rpm_dif  CLASS\n",
       "trackid                            \n",
       "183166             77.858085      1\n",
       "183235            149.259385      1\n",
       "183240             21.232075      1\n",
       "183245             59.987009      1\n",
       "183248             73.997640      1\n",
       "183255            213.847321      1\n",
       "183266             65.483706      1\n",
       "185037            106.997373      1\n",
       "185544             89.667167      1\n",
       "185572             27.638110      1"
      ]
     },
     "execution_count": 15,
     "metadata": {},
     "output_type": "execute_result"
    }
   ],
   "source": [
    "# запустил модель KMeans\n",
    "model = KMeans(n_clusters=2, n_init=2)\n",
    "model.fit(df5)\n",
    "all_predictions = model.predict(df5)\n",
    "allp = pd.DataFrame(all_predictions, columns=['CLASS'])\n",
    "allp = allp.assign(trackid = df5.index)\n",
    "allp.index = allp['trackid']\n",
    "allp = allp.drop(['trackid'], axis = 1)\n",
    "df5 = pd.merge(df5, allp, left_index=True, right_index=True)\n",
    "df5.head(10)"
   ]
  },
  {
   "cell_type": "code",
   "execution_count": 16,
   "metadata": {
    "scrolled": true
   },
   "outputs": [
    {
     "data": {
      "image/png": "[encoded data removed]",
      "text/plain": [
       "<Figure size 432x288 with 1 Axes>"
      ]
     },
     "metadata": {
      "needs_background": "light"
     },
     "output_type": "display_data"
    }
   ],
   "source": [
    "# посмотрел как распределились результаты полученые на основании модели\n",
    "x_axis = df5['speed_dif / rpm_dif']\n",
    "y_axis = df5['speed_dif / rpm_dif'] \n",
    "plt.scatter(x_axis, y_axis, c=df5['CLASS'])\n",
    "plt.show()"
   ]
  },
  {
   "cell_type": "code",
   "execution_count": 17,
   "metadata": {},
   "outputs": [
    {
     "name": "stderr",
     "output_type": "stream",
     "text": [
      "C:\\Users\\HaritonovDV\\AppData\\Local\\Continuum\\anaconda3\\envs\\work\\lib\\site-packages\\ipykernel_launcher.py:16: SettingWithCopyWarning: \n",
      "A value is trying to be set on a copy of a slice from a DataFrame\n",
      "\n",
      "See the caveats in the documentation: http://pandas.pydata.org/pandas-docs/stable/user_guide/indexing.html#returning-a-view-versus-a-copy\n",
      "  app.launch_new_instance()\n",
      "C:\\Users\\HaritonovDV\\AppData\\Local\\Continuum\\anaconda3\\envs\\work\\lib\\site-packages\\ipykernel_launcher.py:17: SettingWithCopyWarning: \n",
      "A value is trying to be set on a copy of a slice from a DataFrame\n",
      "\n",
      "See the caveats in the documentation: http://pandas.pydata.org/pandas-docs/stable/user_guide/indexing.html#returning-a-view-versus-a-copy\n"
     ]
    }
   ],
   "source": [
    "# для читаемости нужно подписать значения классов.\n",
    "# но при перезапуске ноутбука значение 0 и 1 меняется местами для одного и того же класса\n",
    "# для решения данной проблемы сравниваю максимум из кажодого класса\n",
    "# и тому мах что больше условием присваиваю значение 'Механика'\n",
    "filt_0 = (df5['CLASS'] == 0)\n",
    "max_0 = df5[filt_0]\n",
    "max_0 = max_0['speed_dif / rpm_dif'].max()\n",
    "\n",
    "filt_1 = (df5['CLASS'] == 1)\n",
    "max_1 = df5[filt_1]\n",
    "max_1 = max_1['speed_dif / rpm_dif'].max()\n",
    "\n",
    "df5['CLASS2'] = ''\n",
    "\n",
    "if max_0 > max_1:\n",
    "    df5['CLASS2'][df5['CLASS'] == 0] = 'Механика'\n",
    "    df5['CLASS2'][df5['CLASS'] == 1] = 'Вариатор'\n",
    "elif max_0 < max_1:\n",
    "    df5['CLASS2'][df5['CLASS'] == 0] = 'Вариатор'\n",
    "    df5['CLASS2'][df5['CLASS'] == 1] = 'Механика'"
   ]
  },
  {
   "cell_type": "code",
   "execution_count": 18,
   "metadata": {},
   "outputs": [
    {
     "data": {
      "text/html": [
       "<div>\n",
       "<style scoped>\n",
       "    .dataframe tbody tr th:only-of-type {\n",
       "        vertical-align: middle;\n",
       "    }\n",
       "\n",
       "    .dataframe tbody tr th {\n",
       "        vertical-align: top;\n",
       "    }\n",
       "\n",
       "    .dataframe thead th {\n",
       "        text-align: right;\n",
       "    }\n",
       "</style>\n",
       "<table border=\"1\" class=\"dataframe\">\n",
       "  <thead>\n",
       "    <tr style=\"text-align: right;\">\n",
       "      <th></th>\n",
       "      <th></th>\n",
       "      <th>CLASS</th>\n",
       "      <th>speed_dif / rpm_dif</th>\n",
       "    </tr>\n",
       "    <tr>\n",
       "      <th>CLASS2</th>\n",
       "      <th>trackid</th>\n",
       "      <th></th>\n",
       "      <th></th>\n",
       "    </tr>\n",
       "  </thead>\n",
       "  <tbody>\n",
       "    <tr>\n",
       "      <td rowspan=\"5\" valign=\"top\">Вариатор</td>\n",
       "      <td>183166</td>\n",
       "      <td>1</td>\n",
       "      <td>77.858085</td>\n",
       "    </tr>\n",
       "    <tr>\n",
       "      <td>183235</td>\n",
       "      <td>1</td>\n",
       "      <td>149.259385</td>\n",
       "    </tr>\n",
       "    <tr>\n",
       "      <td>183240</td>\n",
       "      <td>1</td>\n",
       "      <td>21.232075</td>\n",
       "    </tr>\n",
       "    <tr>\n",
       "      <td>183245</td>\n",
       "      <td>1</td>\n",
       "      <td>59.987009</td>\n",
       "    </tr>\n",
       "    <tr>\n",
       "      <td>183248</td>\n",
       "      <td>1</td>\n",
       "      <td>73.997640</td>\n",
       "    </tr>\n",
       "    <tr>\n",
       "      <td>...</td>\n",
       "      <td>...</td>\n",
       "      <td>...</td>\n",
       "      <td>...</td>\n",
       "    </tr>\n",
       "    <tr>\n",
       "      <td rowspan=\"5\" valign=\"top\">Механика</td>\n",
       "      <td>190716</td>\n",
       "      <td>0</td>\n",
       "      <td>867.653361</td>\n",
       "    </tr>\n",
       "    <tr>\n",
       "      <td>190847</td>\n",
       "      <td>0</td>\n",
       "      <td>347.802467</td>\n",
       "    </tr>\n",
       "    <tr>\n",
       "      <td>191794</td>\n",
       "      <td>0</td>\n",
       "      <td>624.766254</td>\n",
       "    </tr>\n",
       "    <tr>\n",
       "      <td>191892</td>\n",
       "      <td>0</td>\n",
       "      <td>237.833046</td>\n",
       "    </tr>\n",
       "    <tr>\n",
       "      <td>191970</td>\n",
       "      <td>0</td>\n",
       "      <td>352.493331</td>\n",
       "    </tr>\n",
       "  </tbody>\n",
       "</table>\n",
       "<p>61 rows × 2 columns</p>\n",
       "</div>"
      ],
      "text/plain": [
       "                  CLASS  speed_dif / rpm_dif\n",
       "CLASS2   trackid                            \n",
       "Вариатор 183166       1            77.858085\n",
       "         183235       1           149.259385\n",
       "         183240       1            21.232075\n",
       "         183245       1            59.987009\n",
       "         183248       1            73.997640\n",
       "...                 ...                  ...\n",
       "Механика 190716       0           867.653361\n",
       "         190847       0           347.802467\n",
       "         191794       0           624.766254\n",
       "         191892       0           237.833046\n",
       "         191970       0           352.493331\n",
       "\n",
       "[61 rows x 2 columns]"
      ]
     },
     "execution_count": 18,
     "metadata": {},
     "output_type": "execute_result"
    }
   ],
   "source": [
    "# вывод сводной таблицы чтобы посмотреть что получилось\n",
    "pivot = pd.pivot_table(df5, index=['CLASS2','trackid'])\n",
    "pivot"
   ]
  },
  {
   "cell_type": "code",
   "execution_count": 19,
   "metadata": {},
   "outputs": [],
   "source": [
    "# выгрузка в excel результатов\n",
    "# df5.to_excel('Transmission_answer.xlsx')"
   ]
  },
  {
   "cell_type": "code",
   "execution_count": 20,
   "metadata": {},
   "outputs": [
    {
     "name": "stdout",
     "output_type": "stream",
     "text": [
      "6.801680326461792\n"
     ]
    }
   ],
   "source": [
    "finish_time = time.time()\n",
    "work_time = finish_time - start_time\n",
    "print(work_time)"
   ]
  }
 ],
 "metadata": {
  "kernelspec": {
   "display_name": "Python 3",
   "language": "python",
   "name": "python3"
  },
  "language_info": {
   "codemirror_mode": {
    "name": "ipython",
    "version": 3
   },
   "file_extension": ".py",
   "mimetype": "text/x-python",
   "name": "python",
   "nbconvert_exporter": "python",
   "pygments_lexer": "ipython3",
   "version": "3.6.9"
  }
 },
 "nbformat": 4,
 "nbformat_minor": 2
}
