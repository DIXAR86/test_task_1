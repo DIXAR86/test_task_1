{
 "cells": [
  {
   "cell_type": "code",
   "execution_count": 1,
   "metadata": {},
   "outputs": [
    {
     "ename": "ModuleNotFoundError",
     "evalue": "No module named 'sklearn'",
     "output_type": "error",
     "traceback": [
      "\u001b[1;31m---------------------------------------------------------------------------\u001b[0m",
      "\u001b[1;31mModuleNotFoundError\u001b[0m                       Traceback (most recent call last)",
      "\u001b[1;32m<ipython-input-1-065723c86c41>\u001b[0m in \u001b[0;36m<module>\u001b[1;34m\u001b[0m\n\u001b[0;32m      1\u001b[0m \u001b[1;32mimport\u001b[0m \u001b[0mpandas\u001b[0m \u001b[1;32mas\u001b[0m \u001b[0mpd\u001b[0m\u001b[1;33m\u001b[0m\u001b[1;33m\u001b[0m\u001b[0m\n\u001b[0;32m      2\u001b[0m \u001b[1;32mimport\u001b[0m \u001b[0mmatplotlib\u001b[0m\u001b[1;33m.\u001b[0m\u001b[0mpyplot\u001b[0m \u001b[1;32mas\u001b[0m \u001b[0mplt\u001b[0m\u001b[1;33m\u001b[0m\u001b[1;33m\u001b[0m\u001b[0m\n\u001b[1;32m----> 3\u001b[1;33m \u001b[1;32mfrom\u001b[0m \u001b[0msklearn\u001b[0m\u001b[1;33m.\u001b[0m\u001b[0mcluster\u001b[0m \u001b[1;32mimport\u001b[0m \u001b[0mKMeans\u001b[0m\u001b[1;33m\u001b[0m\u001b[1;33m\u001b[0m\u001b[0m\n\u001b[0m\u001b[0;32m      4\u001b[0m \u001b[1;32mimport\u001b[0m \u001b[0mnumpy\u001b[0m \u001b[1;32mas\u001b[0m \u001b[0mnp\u001b[0m\u001b[1;33m\u001b[0m\u001b[1;33m\u001b[0m\u001b[0m\n",
      "\u001b[1;31mModuleNotFoundError\u001b[0m: No module named 'sklearn'"
     ]
    }
   ],
   "source": [
    "import pandas as pd\n",
    "import matplotlib.pyplot as plt\n",
    "from sklearn.cluster import KMeans\n",
    "import numpy as np"
   ]
  },
  {
   "cell_type": "code",
   "execution_count": null,
   "metadata": {},
   "outputs": [],
   "source": [
    "df = pd.read_excel(r'D:\\SWORK\\Тестовые задания\\United Consulting Group\\Transmission.xlsx', encoding='utf-8')"
   ]
  },
  {
   "cell_type": "code",
   "execution_count": null,
   "metadata": {},
   "outputs": [],
   "source": [
    "df.info()"
   ]
  },
  {
   "cell_type": "code",
   "execution_count": null,
   "metadata": {},
   "outputs": [],
   "source": [
    "df2 = df"
   ]
  },
  {
   "cell_type": "code",
   "execution_count": null,
   "metadata": {},
   "outputs": [],
   "source": [
    "df2.index = df2['trackid']\n",
    "df2 = df2.drop(['trackid'], axis=1)\n",
    "df2.head()"
   ]
  },
  {
   "cell_type": "code",
   "execution_count": null,
   "metadata": {},
   "outputs": [],
   "source": [
    "df3 = df2"
   ]
  },
  {
   "cell_type": "code",
   "execution_count": null,
   "metadata": {},
   "outputs": [],
   "source": [
    "df3['rpm_dif'] = \"\"\n",
    "df3['speed_dif'] = \"\"\n",
    "df3['speed_dif / rpm_dif'] = \"\""
   ]
  },
  {
   "cell_type": "code",
   "execution_count": null,
   "metadata": {},
   "outputs": [],
   "source": [
    "df3.head()"
   ]
  },
  {
   "cell_type": "code",
   "execution_count": null,
   "metadata": {},
   "outputs": [],
   "source": [
    "# df4['rpm_dif'] - Колонка в которой расчитал изменение rpm по сравнению с предыдущей точкой\n",
    "df4 = df3\n",
    "df4 = df4.reset_index()\n",
    "df4all = df4['rpm'].iloc[:-1]\n",
    "df4all[-1] = 0\n",
    "df4all.index = df4all.index + 1\n",
    "df4all = df4all.sort_index()\n",
    "df4['rpm_dif'] = df4['rpm'] - df4all"
   ]
  },
  {
   "cell_type": "code",
   "execution_count": null,
   "metadata": {},
   "outputs": [],
   "source": [
    "# df4['speed_dif'] - Колонка в которой расчитал изменение speed по сравнению с предыдущей точкой\n",
    "df4 = df4\n",
    "df4 = df4.reset_index(drop=True)\n",
    "df4all = df4['speed'].iloc[:-1]\n",
    "df4all[-1] = 0\n",
    "df4all.index = df4all.index + 1\n",
    "df4all = df4all.sort_index()\n",
    "df4['speed_dif'] = df4['speed'] - df4all"
   ]
  },
  {
   "cell_type": "code",
   "execution_count": null,
   "metadata": {},
   "outputs": [],
   "source": [
    "df4.head()"
   ]
  },
  {
   "cell_type": "code",
   "execution_count": null,
   "metadata": {},
   "outputs": [],
   "source": [
    "\"\"\"Для классификации поездок решил сгенерировать новый признак (отношение изменение сокрости к изменению оборотов)\n",
    "поскольку на вариаторе нет переключения скоростей и общая сумма по новому признаку должна быть по идее ниже.\n",
    "В данных есть пропуски и при рпсчете новой фичи возникли inf / -inf. Данное значение при агрегации данных не давало\n",
    "возможности нормально отобразить результаты. Для этого применил \"хитрость ниже\" введя в места пропуска маленькие\n",
    "значения в знаменатель и обнуляя значения в числителе. (таких значений было относительно мало, посчитал подобные \n",
    "изменения допустимыми)\"\"\"\n",
    "\n",
    "filt = (df4['rpm_dif'] ==0)&(df4['speed_dif'] != 0)\n",
    "df4[filt]\n",
    "df4.loc[df4[filt].index.values,'speed_dif'] = 0\n",
    "df4.loc[df4[filt].index.values,'rpm_dif'] = 0.001"
   ]
  },
  {
   "cell_type": "code",
   "execution_count": null,
   "metadata": {},
   "outputs": [],
   "source": [
    "# расчет нового признака\n",
    "df4['speed_dif / rpm_dif'] = df4['speed_dif'] / df4['rpm_dif']"
   ]
  },
  {
   "cell_type": "code",
   "execution_count": null,
   "metadata": {},
   "outputs": [],
   "source": [
    "df4.head()"
   ]
  },
  {
   "cell_type": "code",
   "execution_count": null,
   "metadata": {},
   "outputs": [],
   "source": [
    "df4 = df4.fillna(0)"
   ]
  },
  {
   "cell_type": "code",
   "execution_count": null,
   "metadata": {},
   "outputs": [],
   "source": [
    "df4['Marker'] = 1"
   ]
  },
  {
   "cell_type": "code",
   "execution_count": null,
   "metadata": {},
   "outputs": [],
   "source": [
    "\"\"\"Посколку в новом признаке перемножались два столбца в которых было возможно 4 комбинации знаков:\n",
    "'++', '+-', '-+', '--' то по правилам умножения у четвертой комбинации '--' получался знак плюс. Хотя для накопительного\n",
    "эффекта подсчета суммы по новому признаку требовалось сохранить знак минус. Для этого ввел доп колонку в которо для\n",
    "подобных случаев проставил значение -1 и в последствии на него умножил приведя значения знаков нового параметра в нужное \n",
    "состояние\"\"\"\n",
    "\n",
    "filt = (df4['rpm_dif']<0)&(df4['speed_dif']<0)\n",
    "df4[filt]\n",
    "df4.loc[df4[filt].index.values,'Marker'] = -1"
   ]
  },
  {
   "cell_type": "code",
   "execution_count": null,
   "metadata": {},
   "outputs": [],
   "source": [
    "df4['speed_dif / rpm_dif'] = df4['speed_dif / rpm_dif'] * df4['Marker']\n",
    "df4['speed_dif / rpm_dif'] = df4['speed_dif / rpm_dif'].astype(float)"
   ]
  },
  {
   "cell_type": "code",
   "execution_count": null,
   "metadata": {},
   "outputs": [],
   "source": [
    "df4.head()"
   ]
  },
  {
   "cell_type": "code",
   "execution_count": null,
   "metadata": {},
   "outputs": [],
   "source": [
    "df5 =df4.groupby('trackid').agg({'speed_dif / rpm_dif': 'sum'})"
   ]
  },
  {
   "cell_type": "code",
   "execution_count": null,
   "metadata": {},
   "outputs": [],
   "source": [
    "x_axis = df5.index\n",
    "y_axis = df5['speed_dif / rpm_dif']\n",
    "plt.scatter(x_axis, y_axis, c=df5['speed_dif / rpm_dif'])\n",
    "plt.show()"
   ]
  },
  {
   "cell_type": "code",
   "execution_count": null,
   "metadata": {},
   "outputs": [],
   "source": [
    "model = KMeans(n_clusters=2, n_init=2)\n",
    "model.fit(df5)\n",
    "all_predictions = model.predict(df5)\n",
    "allp = pd.DataFrame(all_predictions, columns=['CLASS'])\n",
    "allp = allp.assign(trackid = df5.index)\n",
    "allp.index = allp['trackid']\n",
    "allp = allp.drop(['trackid'], axis = 1)\n",
    "df5 = pd.merge(df5, allp, left_index=True, right_index=True)\n",
    "df5.head(10)"
   ]
  },
  {
   "cell_type": "code",
   "execution_count": null,
   "metadata": {
    "scrolled": true
   },
   "outputs": [],
   "source": [
    "x_axis = df5['speed_dif / rpm_dif']\n",
    "y_axis = df5['speed_dif / rpm_dif'] \n",
    "plt.scatter(x_axis, y_axis, c=df5['CLASS'])\n",
    "plt.show()"
   ]
  },
  {
   "cell_type": "code",
   "execution_count": null,
   "metadata": {},
   "outputs": [],
   "source": [
    "df5['CLASS2'] = ''"
   ]
  },
  {
   "cell_type": "code",
   "execution_count": null,
   "metadata": {},
   "outputs": [],
   "source": [
    "df5['CLASS2'][df5['CLASS'] == 1] = 'Механика'\n",
    "df5['CLASS2'][df5['CLASS'] == 0] = 'Вариатор'"
   ]
  },
  {
   "cell_type": "code",
   "execution_count": null,
   "metadata": {},
   "outputs": [],
   "source": [
    "df5.head(15)"
   ]
  },
  {
   "cell_type": "code",
   "execution_count": null,
   "metadata": {},
   "outputs": [],
   "source": [
    "df5.to_excel('Харитонов_Д.В._Transmission_answer2.xlsx')"
   ]
  }
 ],
 "metadata": {
  "kernelspec": {
   "display_name": "Python 3",
   "language": "python",
   "name": "python3"
  },
  "language_info": {
   "codemirror_mode": {
    "name": "ipython",
    "version": 3
   },
   "file_extension": ".py",
   "mimetype": "text/x-python",
   "name": "python",
   "nbconvert_exporter": "python",
   "pygments_lexer": "ipython3",
   "version": "3.6.7"
  }
 },
 "nbformat": 4,
 "nbformat_minor": 2
}
